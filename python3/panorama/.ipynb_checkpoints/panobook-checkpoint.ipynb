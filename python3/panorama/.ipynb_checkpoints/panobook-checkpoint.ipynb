{
 "cells": [
  {
   "cell_type": "code",
   "execution_count": 1,
   "metadata": {
    "collapsed": true
   },
   "outputs": [],
   "source": [
    "import cv2\n",
    "import numpy as np"
   ]
  },
  {
   "cell_type": "code",
   "execution_count": 5,
   "metadata": {
    "collapsed": false
   },
   "outputs": [],
   "source": [
    "class image:\n",
    "    def __init__(self,name):\n",
    "        def resize_image(name):\n",
    "            image = cv2.imread(name,cv2.IMREAD_COLOR)\n",
    "            image = cv2.resize(image,(int(image.shape[1]*600/3024),int(image.shape[0]*800/4032)))\n",
    "            return image\n",
    "        def calculate(self):\n",
    "                detector = cv2.AKAZE_create()\n",
    "                keypoints, descriptors = detector.detectAndCompute(self.image,None)\n",
    "                return keypoints, descriptors\n",
    "\n",
    "        self.name = name\n",
    "        self.image = resize_image(name)\n",
    "        self.kp,self.des = calculate(self)\n",
    "        \n",
    "        def show(self):\n",
    "            cv2.imshow(self.name, self.image)\n",
    "        "
   ]
  },
  {
   "cell_type": "code",
   "execution_count": null,
   "metadata": {
    "collapsed": true
   },
   "outputs": [],
   "source": []
  },
  {
   "cell_type": "code",
   "execution_count": 12,
   "metadata": {
    "collapsed": true
   },
   "outputs": [],
   "source": [
    "def make_panorama(original1,original2):\n",
    "    matcher = cv2.BFMatcher(cv2.NORM_L2,False)\n",
    "    matches = matcher.knnMatch(original1.des,original2.des,2)\n",
    "    goodmatches = []\n",
    "    trainkeys = []\n",
    "    querykeys = []\n",
    "    maskArray = []\n",
    "\n",
    "    for i in matches:\n",
    "        print(i[0].distance,end='')\n",
    "        if i[0].distance < 500:\n",
    "            if i[0].distance/i[1].distance < 0.8:\n",
    "                print('-->good match')\n",
    "                goodmatches.append(i[0])\n",
    "                querykeys.append((original1.kp[i[0].queryIdx].pt[0],original1.kp[i[0].queryIdx].pt[1]))\n",
    "                trainkeys.append((original2.kp[i[0].trainIdx].pt[0],original2.kp[i[0].trainIdx].pt[1]))\n",
    "            else:\n",
    "                print('-->not good match')\n",
    "        else:\n",
    "            print('-->not good match')\n",
    "\n",
    "    print(\"-----Calculating Homography-----\")\n",
    "    H, status = cv2.findHomography(numpy.array(trainkeys),numpy.array(querykeys),cv2.RANSAC)\n",
    "\n",
    "    div = calcDst4(H,original2.image.shape,original1.image.shape)\n",
    "\n",
    "    mask=numpy.zeros((height, width,1),numpy.uint8)\n",
    "    panorama = cv2.warpPerspective(original2.image,H,(width,height))\n",
    "    for i in range(width):\n",
    "      for j in range(height):\n",
    "        if original1.image[j,i].all():\n",
    "          if panorama[j,i].all():\n",
    "            panorama[j,i] = original1.image[j,i]/2+panorama[j,i]/2\n",
    "            mask[j,i]=255\n",
    "          else:\n",
    "            panorama[j,i] = original1.image[j,i]\n",
    "    #cv2.imwrite(\"mask\",mask)\n",
    "    cv2.waitKey(0)\n",
    "    print(\"--next--\")\n",
    "    return panorama\n"
   ]
  },
  {
   "cell_type": "code",
   "execution_count": null,
   "metadata": {
    "collapsed": true
   },
   "outputs": [],
   "source": []
  },
  {
   "cell_type": "code",
   "execution_count": null,
   "metadata": {
    "collapsed": true
   },
   "outputs": [],
   "source": []
  }
 ],
 "metadata": {
  "kernelspec": {
   "display_name": "Python 3",
   "language": "python",
   "name": "python3"
  },
  "language_info": {
   "codemirror_mode": {
    "name": "ipython",
    "version": 3
   },
   "file_extension": ".py",
   "mimetype": "text/x-python",
   "name": "python",
   "nbconvert_exporter": "python",
   "pygments_lexer": "ipython3",
   "version": "3.5.1"
  }
 },
 "nbformat": 4,
 "nbformat_minor": 0
}
